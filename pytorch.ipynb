{
 "cells": [
  {
   "cell_type": "markdown",
   "id": "4a01d2f5",
   "metadata": {},
   "source": [
    "Operations of tensors using Pytorch"
   ]
  },
  {
   "cell_type": "code",
   "execution_count": 102,
   "id": "f4bc5050",
   "metadata": {},
   "outputs": [],
   "source": [
    "import torch\n",
    "\n",
    "block_size = 8\n",
    "batch_size = 4"
   ]
  },
  {
   "cell_type": "code",
   "execution_count": 3,
   "id": "9427e110",
   "metadata": {},
   "outputs": [
    {
     "name": "stdout",
     "output_type": "stream",
     "text": [
      "In the heart of a bustling city, people move with purpose, weaving stories into the fabric of daily life\n",
      "The aroma of fresh coffee drifts from a nearby café, mingling with the distant hum of traffic a\n",
      "['\\n', ' ', ',', '.', ':', 'A', 'I', 'N', 'S', 'T', 'a', 'b', 'c', 'd', 'e', 'f', 'g', 'h', 'i', 'k', 'l', 'm', 'n', 'o', 'p', 'q', 'r', 's', 't', 'u', 'v', 'w', 'y', 'z', 'é']\n",
      "35\n",
      "1154\n"
     ]
    }
   ],
   "source": [
    "with open('demo_text.txt', 'r', encoding = 'utf-8') as f:\n",
    "    text = f.read()\n",
    "print(text[:200])\n",
    "\n",
    "chars = sorted(set(text))\n",
    "print(chars)\n",
    "print(len(chars))\n",
    "print(len(text))\n",
    "    "
   ]
  },
  {
   "cell_type": "code",
   "execution_count": 4,
   "id": "6b1ed40c",
   "metadata": {},
   "outputs": [
    {
     "name": "stdout",
     "output_type": "stream",
     "text": [
      "tensor([ 6, 22,  1, 28, 17, 14,  1, 17, 14, 10, 26, 28,  1, 23, 15,  1, 10,  1,\n",
      "        11, 29, 27, 28, 20, 18, 22, 16,  1, 12, 18, 28, 32,  2,  1, 24, 14, 23,\n",
      "        24, 20, 14,  1, 21, 23, 30, 14,  1, 31, 18, 28, 17,  1, 24, 29, 26, 24,\n",
      "        23, 27, 14,  2,  1, 31, 14, 10, 30, 18, 22, 16,  1, 27, 28, 23, 26, 18,\n",
      "        14, 27,  1, 18, 22, 28, 23,  1, 28, 17, 14,  1, 15, 10, 11, 26, 18, 12,\n",
      "         1, 23, 15,  1, 13, 10, 18, 20, 32,  1])\n"
     ]
    }
   ],
   "source": [
    "string_to_int = {ch:i for i,ch in enumerate(chars)}\n",
    "int_to_string = {i:ch for i,ch in enumerate(chars)}\n",
    "encode = lambda s: [string_to_int[c] for c in s]\n",
    "decode = lambda l: ''.join([int_to_string[i] for i in l])\n",
    "\n",
    "# encoded_hello = encode('hello')\n",
    "# decoded_hello = decode(encoded_hello, dtype = torch.long)\n",
    "# print(decoded_hello)\n",
    "\n",
    "data = torch.tensor(encode(text), dtype= torch.long)\n",
    "print(data[:100])\n",
    "\n"
   ]
  },
  {
   "cell_type": "code",
   "execution_count": 5,
   "id": "2462c4e5",
   "metadata": {},
   "outputs": [],
   "source": [
    "n = int(0.8*len(data))\n",
    "train_data = data[:n]\n",
    "val_data = data[n:]"
   ]
  },
  {
   "cell_type": "code",
   "execution_count": 6,
   "id": "1306fb6a",
   "metadata": {},
   "outputs": [
    {
     "name": "stdout",
     "output_type": "stream",
     "text": [
      "when input is: tensor([6]) target is: tensor(6)\n",
      "when input is: tensor([ 6, 22]) target is: tensor(22)\n",
      "when input is: tensor([ 6, 22,  1]) target is: tensor(1)\n",
      "when input is: tensor([ 6, 22,  1, 28]) target is: tensor(28)\n",
      "when input is: tensor([ 6, 22,  1, 28, 17]) target is: tensor(17)\n",
      "when input is: tensor([ 6, 22,  1, 28, 17, 14]) target is: tensor(14)\n",
      "when input is: tensor([ 6, 22,  1, 28, 17, 14,  1]) target is: tensor(1)\n",
      "when input is: tensor([ 6, 22,  1, 28, 17, 14,  1, 17]) target is: tensor(17)\n"
     ]
    }
   ],
   "source": [
    "block_size = 8\n",
    "\n",
    "x= train_data[:block_size]\n",
    "y = train_data[:block_size + 1]\n",
    "\n",
    "for t in range(block_size):\n",
    "    context = x[:t + 1]\n",
    "    target = y[t]\n",
    "    print(\"when input is:\", context, \"target is:\", target)"
   ]
  },
  {
   "cell_type": "code",
   "execution_count": 7,
   "id": "c210a5de",
   "metadata": {},
   "outputs": [
    {
     "name": "stdout",
     "output_type": "stream",
     "text": [
      "tensor([ 77,  77,   4, -43,  93, -26, -38, -67, -53,  59])\n"
     ]
    }
   ],
   "source": [
    "randint = torch.randint(-100, 100, (10,))\n",
    "print(randint)"
   ]
  },
  {
   "cell_type": "code",
   "execution_count": 8,
   "id": "135b34f8",
   "metadata": {},
   "outputs": [
    {
     "name": "stdout",
     "output_type": "stream",
     "text": [
      "tensor([1, 2, 3, 4, 5])\n"
     ]
    }
   ],
   "source": [
    "tensor = torch.tensor([1, 2, 3, 4, 5])\n",
    "print(tensor)"
   ]
  },
  {
   "cell_type": "code",
   "execution_count": 9,
   "id": "f54d96fc",
   "metadata": {},
   "outputs": [
    {
     "data": {
      "text/plain": [
       "tensor([[[0., 0., 0., 0.],\n",
       "         [0., 0., 0., 0.],\n",
       "         [0., 0., 0., 0.]],\n",
       "\n",
       "        [[0., 0., 0., 0.],\n",
       "         [0., 0., 0., 0.],\n",
       "         [0., 0., 0., 0.]]])"
      ]
     },
     "execution_count": 9,
     "metadata": {},
     "output_type": "execute_result"
    }
   ],
   "source": [
    "zeros = torch.zeros((2, 3, 4))\n",
    "zeros"
   ]
  },
  {
   "cell_type": "code",
   "execution_count": 10,
   "id": "f05ea442",
   "metadata": {},
   "outputs": [
    {
     "name": "stdout",
     "output_type": "stream",
     "text": [
      "tensor([[[1., 1., 1., 1.],\n",
      "         [1., 1., 1., 1.],\n",
      "         [1., 1., 1., 1.]],\n",
      "\n",
      "        [[1., 1., 1., 1.],\n",
      "         [1., 1., 1., 1.],\n",
      "         [1., 1., 1., 1.]]])\n"
     ]
    }
   ],
   "source": [
    "ones = torch.ones((2, 3, 4))\n",
    "print(ones)"
   ]
  },
  {
   "cell_type": "code",
   "execution_count": 11,
   "id": "29af78eb",
   "metadata": {},
   "outputs": [
    {
     "data": {
      "text/plain": [
       "tensor([[[-2.2074,  0.4338,  0.3849,  0.8459],\n",
       "         [-0.4016, -0.6425, -0.0284,  0.5433],\n",
       "         [ 0.0621,  0.4865,  1.6807,  1.2790]],\n",
       "\n",
       "        [[-0.4162,  0.2513,  0.7131, -1.1940],\n",
       "         [-1.0609,  0.5034, -0.5833,  0.6173],\n",
       "         [ 0.8824, -2.4127,  0.1613, -1.2737]]])"
      ]
     },
     "execution_count": 11,
     "metadata": {},
     "output_type": "execute_result"
    }
   ],
   "source": [
    "input = torch.randn((2, 3, 4))\n",
    "input"
   ]
  },
  {
   "cell_type": "code",
   "execution_count": 19,
   "id": "c928ad25",
   "metadata": {},
   "outputs": [
    {
     "name": "stdout",
     "output_type": "stream",
     "text": [
      "tensor([[[-5.6974e+22,  1.6577e-42,  0.0000e+00,  0.0000e+00],\n",
      "         [ 0.0000e+00,  0.0000e+00,  0.0000e+00,  0.0000e+00],\n",
      "         [ 0.0000e+00,  0.0000e+00,  0.0000e+00,  0.0000e+00]],\n",
      "\n",
      "        [[ 0.0000e+00,  0.0000e+00,  0.0000e+00,  0.0000e+00],\n",
      "         [ 0.0000e+00,  0.0000e+00,  0.0000e+00,  0.0000e+00],\n",
      "         [ 0.0000e+00,  0.0000e+00,  0.0000e+00,  0.0000e+00]]])\n",
      "torch.Size([2, 3, 4])\n"
     ]
    }
   ],
   "source": [
    "input = torch.empty((2, 3, 4))\n",
    "print(input)\n",
    "print(input.size())\n"
   ]
  },
  {
   "cell_type": "code",
   "execution_count": 21,
   "id": "cd9bf61d",
   "metadata": {},
   "outputs": [
    {
     "name": "stdout",
     "output_type": "stream",
     "text": [
      "tensor([0, 2, 4, 6, 8])\n",
      "torch.Size([5])\n"
     ]
    }
   ],
   "source": [
    "arange = torch.arange(0, 10, 2)\n",
    "print(arange)\n",
    "print(arange.size())"
   ]
  },
  {
   "cell_type": "code",
   "execution_count": 14,
   "id": "dc0c1bf0",
   "metadata": {},
   "outputs": [
    {
     "name": "stdout",
     "output_type": "stream",
     "text": [
      "tensor([0.0000, 0.2500, 0.5000, 0.7500, 1.0000])\n"
     ]
    }
   ],
   "source": [
    "linspace = torch.linspace(0, 1, 5)\n",
    "print(linspace)"
   ]
  },
  {
   "cell_type": "code",
   "execution_count": 15,
   "id": "8059a9fc",
   "metadata": {},
   "outputs": [
    {
     "name": "stdout",
     "output_type": "stream",
     "text": [
      "tensor([ 1.,  2.,  4.,  8., 16.])\n"
     ]
    }
   ],
   "source": [
    "logspace = torch.logspace(start=0, end=1, steps=5, base=16)\n",
    "print(logspace)"
   ]
  },
  {
   "cell_type": "code",
   "execution_count": 16,
   "id": "0b46a4fa",
   "metadata": {},
   "outputs": [
    {
     "name": "stdout",
     "output_type": "stream",
     "text": [
      "tensor([[1., 0., 0.],\n",
      "        [0., 1., 0.],\n",
      "        [0., 0., 1.]])\n"
     ]
    }
   ],
   "source": [
    "eye = torch.eye(3, 3)\n",
    "print(eye)"
   ]
  },
  {
   "cell_type": "code",
   "execution_count": 26,
   "id": "f4f06988",
   "metadata": {},
   "outputs": [
    {
     "name": "stdout",
     "output_type": "stream",
     "text": [
      "tensor([5, 5, 3]) torch.int64\n"
     ]
    }
   ],
   "source": [
    "input = torch.tensor([5,5,3])\n",
    "print(input, input.dtype)"
   ]
  },
  {
   "cell_type": "code",
   "execution_count": 27,
   "id": "e88b591a",
   "metadata": {},
   "outputs": [
    {
     "name": "stdout",
     "output_type": "stream",
     "text": [
      "tensor([[0, 0, 0, 0, 0, 0, 0, 0],\n",
      "        [0, 0, 0, 0, 0, 0, 0, 0],\n",
      "        [0, 0, 0, 0, 0, 0, 0, 0],\n",
      "        [0, 0, 0, 0, 0, 0, 0, 0]])\n"
     ]
    }
   ],
   "source": [
    "input = torch.zeros((batch_size, block_size), dtype = torch.long)\n",
    "print(input)"
   ]
  },
  {
   "cell_type": "code",
   "execution_count": 58,
   "id": "bdda8b84",
   "metadata": {},
   "outputs": [],
   "source": [
    "x = torch.tensor([[2,3], [2,45], [35, 325]])\n",
    "y = torch.tensor([[2,23,43], [113,35,24]])\n",
    "z = torch.tensor([[2,3], [5,6], [8,9]])\n"
   ]
  },
  {
   "cell_type": "code",
   "execution_count": 59,
   "id": "15953bd3",
   "metadata": {},
   "outputs": [
    {
     "data": {
      "text/plain": [
       "torch.Size([3, 2])"
      ]
     },
     "execution_count": 59,
     "metadata": {},
     "output_type": "execute_result"
    }
   ],
   "source": [
    "x.shape"
   ]
  },
  {
   "cell_type": "code",
   "execution_count": 60,
   "id": "58a419cb",
   "metadata": {},
   "outputs": [
    {
     "data": {
      "text/plain": [
       "torch.Size([2, 3])"
      ]
     },
     "execution_count": 60,
     "metadata": {},
     "output_type": "execute_result"
    }
   ],
   "source": [
    "y.shape"
   ]
  },
  {
   "cell_type": "code",
   "execution_count": 61,
   "id": "84978bab",
   "metadata": {},
   "outputs": [
    {
     "name": "stdout",
     "output_type": "stream",
     "text": [
      "tensor([[  343,   151,   158],\n",
      "        [ 5089,  1621,  1166],\n",
      "        [36795, 12180,  9305]])\n",
      "tensor([[  343,   151,   158],\n",
      "        [ 5089,  1621,  1166],\n",
      "        [36795, 12180,  9305]])\n"
     ]
    }
   ],
   "source": [
    "print(torch.matmul(x, y))\n",
    "print(x@y)"
   ]
  },
  {
   "cell_type": "code",
   "execution_count": 62,
   "id": "a04cf3de",
   "metadata": {},
   "outputs": [
    {
     "name": "stdout",
     "output_type": "stream",
     "text": [
      "tensor([[  4,   6],\n",
      "        [  7,  51],\n",
      "        [ 43, 334]])\n"
     ]
    }
   ],
   "source": [
    "print(x.add(z))"
   ]
  },
  {
   "cell_type": "code",
   "execution_count": 67,
   "id": "c825af0b",
   "metadata": {},
   "outputs": [
    {
     "name": "stdout",
     "output_type": "stream",
     "text": [
      "tensor([[ 1,  1],\n",
      "        [ 0,  7],\n",
      "        [ 4, 36]])\n"
     ]
    }
   ],
   "source": [
    "print(x // z)"
   ]
  },
  {
   "cell_type": "code",
   "execution_count": 68,
   "id": "5834d424",
   "metadata": {},
   "outputs": [
    {
     "name": "stdout",
     "output_type": "stream",
     "text": [
      "tensor([[  0,   0],\n",
      "        [ -3,  39],\n",
      "        [ 27, 316]])\n"
     ]
    }
   ],
   "source": [
    "print(x.sub(z))"
   ]
  },
  {
   "cell_type": "code",
   "execution_count": 94,
   "id": "94f2c50b",
   "metadata": {},
   "outputs": [
    {
     "name": "stdout",
     "output_type": "stream",
     "text": [
      "tensor([[[[13],\n",
      "          [ 5],\n",
      "          [16]],\n",
      "\n",
      "         [[ 8],\n",
      "          [ 4],\n",
      "          [19]]]]) torch.Size([5, 2, 3, 1])\n"
     ]
    }
   ],
   "source": [
    "x = torch.randint(3,20, (5,2,3,1), dtype= torch.long)\n",
    "print(x[:1], x.shape)"
   ]
  },
  {
   "cell_type": "code",
   "execution_count": 100,
   "id": "9627f456",
   "metadata": {},
   "outputs": [
    {
     "name": "stdout",
     "output_type": "stream",
     "text": [
      "13\n",
      "[[[[13], [5], [16]], [[8], [4], [19]]], [[[15], [8], [9]], [[10], [7], [14]]], [[[15], [9], [10]], [[4], [3], [11]]], [[[12], [15], [17]], [[3], [17], [12]]], [[[4], [15], [4]], [[4], [4], [8]]]]\n",
      "tensor([[13,  5, 16],\n",
      "        [ 8,  4, 19],\n",
      "        [15,  8,  9],\n",
      "        [10,  7, 14],\n",
      "        [15,  9, 10],\n",
      "        [ 4,  3, 11],\n",
      "        [12, 15, 17],\n",
      "        [ 3, 17, 12],\n",
      "        [ 4, 15,  4],\n",
      "        [ 4,  4,  8]])\n"
     ]
    }
   ],
   "source": [
    "# Option 1: Print a single element as a scalar\n",
    "print(x[0, 0, 0, 0].item())\n",
    "\n",
    "# Option 2: Print the entire tensor as a nested list\n",
    "print(x.tolist())\n",
    "print(x.view(-1, 3))  # Reshape to a 2D tensor with 3 columns"
   ]
  },
  {
   "cell_type": "code",
   "execution_count": 101,
   "id": "915ffa59",
   "metadata": {},
   "outputs": [
    {
     "name": "stdout",
     "output_type": "stream",
     "text": [
      "torch.Size([5, 2, 3, 1]) torch.Size([2, 3]) torch.Size([3, 2])\n"
     ]
    }
   ],
   "source": [
    "print(x.size(), y.size(), z.size())"
   ]
  },
  {
   "cell_type": "code",
   "execution_count": 103,
   "id": "5e018a4c",
   "metadata": {},
   "outputs": [
    {
     "name": "stdout",
     "output_type": "stream",
     "text": [
      "Using device: cpu\n"
     ]
    }
   ],
   "source": [
    "device = torch.device(\"cuda\" if torch.cuda.is_available() else \"cpu\")\n",
    "print(f\"Using device: {device}\")"
   ]
  },
  {
   "cell_type": "code",
   "execution_count": 105,
   "id": "1a5c9cdd",
   "metadata": {},
   "outputs": [
    {
     "name": "stdout",
     "output_type": "stream",
     "text": [
      "tensor([[0.3190, 0.5550, 0.1120, 0.5046, 0.8893, 0.6205, 0.5180, 0.0465],\n",
      "        [0.3456, 0.5320, 0.8158, 0.2707, 0.6676, 0.2490, 0.0023, 0.5556],\n",
      "        [0.7984, 0.4222, 0.6529, 0.8522, 0.9466, 0.7298, 0.8322, 0.9463],\n",
      "        [0.2635, 0.1863, 0.8744, 0.4148, 0.8129, 0.1432, 0.6560, 0.1707]])\n"
     ]
    }
   ],
   "source": [
    "x = torch.rand(batch_size, block_size).to(device)\n",
    "print(x)"
   ]
  },
  {
   "cell_type": "code",
   "execution_count": 106,
   "id": "8773dd7a",
   "metadata": {},
   "outputs": [
    {
     "name": "stdout",
     "output_type": "stream",
     "text": [
      "tensor([[0.3190, 0.5550, 0.1120, 0.5046, 0.8893, 0.6205, 0.5180, 0.0465],\n",
      "        [0.3456, 0.5320, 0.8158, 0.2707, 0.6676, 0.2490, 0.0023, 0.5556],\n",
      "        [0.7984, 0.4222, 0.6529, 0.8522, 0.9466, 0.7298, 0.8322, 0.9463],\n",
      "        [0.2635, 0.1863, 0.8744, 0.4148, 0.8129, 0.1432, 0.6560, 0.1707]])\n"
     ]
    }
   ],
   "source": [
    "x = x.to('cpu')\n",
    "x = x.to('cuda') if torch.cuda.is_available() else x\n",
    "print(x)"
   ]
  },
  {
   "cell_type": "code",
   "execution_count": 108,
   "id": "14c14701",
   "metadata": {},
   "outputs": [
    {
     "name": "stdout",
     "output_type": "stream",
     "text": [
      "tensor([[0.3795, 0.7909],\n",
      "        [0.3132, 0.9437]])\n"
     ]
    }
   ],
   "source": [
    "x = torch.rand(2,2, device=device)\n",
    "print(x)"
   ]
  },
  {
   "cell_type": "markdown",
   "id": "fdad3e09",
   "metadata": {},
   "source": [
    "Autograd (Automatic Differentiation for all operations on tensors, torch.autograd is an engine for computing the vector-jacobian product computes partial derivatives while applying chain rule.)"
   ]
  },
  {
   "cell_type": "code",
   "execution_count": 116,
   "id": "2608b2dd",
   "metadata": {},
   "outputs": [
    {
     "name": "stdout",
     "output_type": "stream",
     "text": [
      "None\n",
      "None\n",
      "<AddBackward0 object at 0x0000019A4B440D00>\n"
     ]
    }
   ],
   "source": [
    "x = torch.randn(3, requires_grad=True)\n",
    "y = x + 2\n",
    "print(x.grad)\n",
    "print(x.grad_fn)\n",
    "print(y.grad_fn)"
   ]
  },
  {
   "cell_type": "code",
   "execution_count": 118,
   "id": "225063e1",
   "metadata": {},
   "outputs": [
    {
     "name": "stdout",
     "output_type": "stream",
     "text": [
      "tensor([17.1438, 26.6535,  0.4073], grad_fn=<MulBackward0>) tensor(14.7349, grad_fn=<MeanBackward0>)\n",
      "tensor([4.7810, 5.9614, 0.7370])\n",
      "None\n",
      "<AddBackward0 object at 0x0000019A4B5FE9E0>\n"
     ]
    }
   ],
   "source": [
    "x= torch.randn(3, requires_grad=True)\n",
    "y = x + 2\n",
    "z = y * y * 3\n",
    "\n",
    "mean = z.mean()\n",
    "print(z, mean)\n",
    "mean.backward() # backward pass to compute gradients -> backpropagation\n",
    "print(x.grad) # dz/dx\n",
    "print(x.grad_fn)\n",
    "print(y.grad_fn)"
   ]
  },
  {
   "cell_type": "markdown",
   "id": "ae0851b3",
   "metadata": {},
   "source": [
    "Stop tensors from tracking history"
   ]
  },
  {
   "cell_type": "code",
   "execution_count": 127,
   "id": "7d9b5b9b",
   "metadata": {},
   "outputs": [
    {
     "name": "stdout",
     "output_type": "stream",
     "text": [
      "False\n",
      "None\n",
      "True\n",
      "<SumBackward0 object at 0x0000019A4B5AF250>\n"
     ]
    }
   ],
   "source": [
    "# .requires_grad_(...) changes an existing flag in-place\n",
    "a =torch.randn(2,2,)\n",
    "b = (a*a).sum()\n",
    "print(a.requires_grad)\n",
    "print(b.grad_fn)\n",
    "\n",
    "a.requires_grad_(True)\n",
    "b = (a*a).sum()\n",
    "print(a.requires_grad)\n",
    "print(b.grad_fn)"
   ]
  },
  {
   "cell_type": "code",
   "execution_count": 128,
   "id": "5228a927",
   "metadata": {},
   "outputs": [
    {
     "name": "stdout",
     "output_type": "stream",
     "text": [
      "True\n",
      "False\n"
     ]
    }
   ],
   "source": [
    "# .detach(): get a new tensor iwth the same content but no  gradient computation:\n",
    "a = torch.randn(2,2, requires_grad=True)\n",
    "b = a.detach() # copy\n",
    "print(a.requires_grad)\n",
    "print(b.requires_grad)"
   ]
  },
  {
   "cell_type": "code",
   "execution_count": 130,
   "id": "41c605ef",
   "metadata": {},
   "outputs": [
    {
     "name": "stdout",
     "output_type": "stream",
     "text": [
      "True\n",
      "False\n"
     ]
    }
   ],
   "source": [
    "# wrap in 'with torch.no_grad()'\n",
    "a = torch.randn(2,2, requires_grad=True)\n",
    "print(a.requires_grad)\n",
    "with torch.no_grad():\n",
    "    b = a ** 2\n",
    "    print(b.requires_grad)"
   ]
  },
  {
   "cell_type": "markdown",
   "id": "f1cd0bfb",
   "metadata": {},
   "source": [
    "Gradient descent Autograd\n",
    "Linear regression with Autograd package:\n",
    "f(x) = W*x+b"
   ]
  },
  {
   "cell_type": "code",
   "execution_count": 133,
   "id": "f1d0b84c",
   "metadata": {},
   "outputs": [
    {
     "name": "stdout",
     "output_type": "stream",
     "text": [
      "Prediction before training: f(5.0) = 0.000\n"
     ]
    }
   ],
   "source": [
    "X = torch.tensor([1,2,3,4,5,6,7,8], dtype=torch.float32)\n",
    "Y = torch.tensor([2,4,6,8,10,12,14,16], dtype=torch.float32)\n",
    "\n",
    "w = torch.tensor(0.0, dtype=torch.float32, requires_grad=True)\n",
    "\n",
    "# Model output\n",
    "def forward(x):\n",
    "    return w * x\n",
    "\n",
    "# loss = MSE\n",
    "def loss(y, y_pred):\n",
    "    return ((y_pred - y) ** 2).mean()\n",
    "\n",
    "X_test = 5.0\n",
    "\n",
    "print(f'Prediction before training: f({X_test}) = {forward(X_test).item():.3f}')"
   ]
  },
  {
   "cell_type": "code",
   "execution_count": 134,
   "id": "61fbd60e",
   "metadata": {},
   "outputs": [],
   "source": [
    "# Training\n",
    "\n",
    "learning_rate = 0.01\n",
    "n_epochs= 100"
   ]
  },
  {
   "cell_type": "code",
   "execution_count": 136,
   "id": "441aa199",
   "metadata": {},
   "outputs": [
    {
     "name": "stdout",
     "output_type": "stream",
     "text": [
      "Epoch 0, Loss: 0.0000, w: 2.0000\n",
      "Epoch 10, Loss: 0.0000, w: 2.0000\n",
      "Epoch 20, Loss: 0.0000, w: 2.0000\n",
      "Epoch 30, Loss: 0.0000, w: 2.0000\n",
      "Epoch 40, Loss: 0.0000, w: 2.0000\n",
      "Epoch 50, Loss: 0.0000, w: 2.0000\n",
      "Epoch 60, Loss: 0.0000, w: 2.0000\n",
      "Epoch 70, Loss: 0.0000, w: 2.0000\n",
      "Epoch 80, Loss: 0.0000, w: 2.0000\n",
      "Epoch 90, Loss: 0.0000, w: 2.0000\n",
      "Prediction after training: f(5.0) = 10.000\n"
     ]
    }
   ],
   "source": [
    "for epochs in range(n_epochs):\n",
    "    y_pred = forward(X) # forward pass\n",
    "    \n",
    "    l = loss(Y, y_pred) # compute loss\n",
    "    \n",
    "    l.backward()  # compute gradients \n",
    "    \n",
    "    with torch.no_grad():\n",
    "        w -= learning_rate * w.grad # update weights\n",
    "    w.grad.zero_()\n",
    "    if epochs % 10 == 0: # print progress\n",
    "        print(f'Epoch {epochs}, Loss: {l.item():.4f}, w: {w.item():.4f}')\n",
    "print(f'Prediction after training: f({X_test}) = {forward(X_test).item():.3f}') # final prediction\n"
   ]
  },
  {
   "cell_type": "markdown",
   "id": "cb87a9f1",
   "metadata": {},
   "source": [
    "Model optimizers and Loss functions - A typical pytorch pipeline\n",
    "\n",
    "1. Design Model (i/p, o/p, forward pass with different layers)\n",
    "2. Construct loss and optimizers\n",
    "3. Training loop:\n",
    "        1. Forward propagation\n",
    "        2. backward propagation\n",
    "        3. weight update"
   ]
  },
  {
   "cell_type": "code",
   "execution_count": 137,
   "id": "f5e2115d",
   "metadata": {},
   "outputs": [
    {
     "name": "stdout",
     "output_type": "stream",
     "text": [
      "2 2\n"
     ]
    }
   ],
   "source": [
    "import torch.nn as nn\n",
    "import torch.optim as optim\n",
    "\n",
    "x = torch.tensor([[1, 2], [3, 4]], dtype=torch.float32)\n",
    "y = torch.tensor([[2, 3], [4, 5]], dtype=torch.float32)\n",
    "\n",
    "n_sample, n_features = x.shape\n",
    "print(n_sample, n_features)\n",
    "\n",
    "X_test = torch.tensor([[5, 6]], dtype=torch.float32)"
   ]
  },
  {
   "cell_type": "code",
   "execution_count": 138,
   "id": "b915a0d5",
   "metadata": {},
   "outputs": [],
   "source": [
    "class LinearRegression(nn.Module):\n",
    "    def __init__(self, n_features):\n",
    "        super(LinearRegression, self).__init__()\n",
    "        self.linear = nn.Linear(n_features, 1)  # Linear layer with n_features input and 1 output\n",
    "\n",
    "    def forward(self, x):\n",
    "        return self.linear(x)"
   ]
  },
  {
   "cell_type": "code",
   "execution_count": null,
   "id": "1c922dd1",
   "metadata": {},
   "outputs": [],
   "source": []
  }
 ],
 "metadata": {
  "kernelspec": {
   "display_name": "Python 3",
   "language": "python",
   "name": "python3"
  },
  "language_info": {
   "codemirror_mode": {
    "name": "ipython",
    "version": 3
   },
   "file_extension": ".py",
   "mimetype": "text/x-python",
   "name": "python",
   "nbconvert_exporter": "python",
   "pygments_lexer": "ipython3",
   "version": "3.12.10"
  }
 },
 "nbformat": 4,
 "nbformat_minor": 5
}
