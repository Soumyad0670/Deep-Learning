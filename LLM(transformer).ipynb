{
 "cells": [
  {
   "cell_type": "code",
   "execution_count": 1,
   "id": "ef70533a",
   "metadata": {},
   "outputs": [],
   "source": [
    "# Transformer Model (TensorFlow/Keras)\n",
    "\n",
    "import tensorflow as tf\n",
    "from tensorflow.keras import layers\n",
    "import numpy as np"
   ]
  },
  {
   "cell_type": "code",
   "execution_count": 2,
   "id": "b6107691",
   "metadata": {},
   "outputs": [],
   "source": [
    "# Positional Encoding\n",
    "\n",
    "def get_positional_encoding(seq_len, d_model):\n",
    "    pos = np.arange(seq_len)[:, np.newaxis] # Create a column vector for positions\n",
    "    i = np.arange(d_model)[np.newaxis, :] # Create a row vector for dimensions\n",
    "    # Calculate the angle rates\n",
    "    angle_rates = 1 / np.power(10000, (2 * (i//2)) / np.float32(d_model)) # Apply the formula for positional encoding\n",
    "    # Calculate the positional encoding - using sine for even indices and cosine for odd indices\n",
    "    angle_rads = pos * angle_rates \n",
    "    angle_rads[:, 0::2] = np.sin(angle_rads[:, 0::2])\n",
    "    angle_rads[:, 1::2] = np.cos(angle_rads[:, 1::2])\n",
    "    return tf.cast(angle_rads[np.newaxis, ...], dtype=tf.float32) # Add batch dimension   "
   ]
  },
  {
   "cell_type": "code",
   "execution_count": 3,
   "id": "4b209934",
   "metadata": {},
   "outputs": [],
   "source": [
    "# Scaled Dot-Product Attention\n",
    "\n",
    "def scaled_dot_product_attention(q, k, v, mask):\n",
    "    matmul_qk = tf.matmul(q, k, transpose_b=True)\n",
    "    dk = tf.cast(tf.shape(k)[-1], tf.float32)\n",
    "    scaled_attention_logits = matmul_qk / tf.math.sqrt(dk)\n",
    "    if mask is not None:\n",
    "        scaled_attention_logits += (mask * -1e9)\n",
    "    attention_weights = tf.nn.softmax(scaled_attention_logits, axis=-1)\n",
    "    output = tf.matmul(attention_weights, v)\n",
    "    return output, attention_weights\n"
   ]
  },
  {
   "cell_type": "code",
   "execution_count": 4,
   "id": "91ae989c",
   "metadata": {},
   "outputs": [],
   "source": [
    "# Multi-Head Attention\n",
    "\n",
    "class MultiHeadAttention(tf.keras.layers.Layer):\n",
    "    def __init__(self, d_model, num_heads):\n",
    "        super().__init__()\n",
    "        assert d_model % num_heads == 0\n",
    "        self.num_heads = num_heads\n",
    "        self.d_model = d_model\n",
    "        self.depth = d_model // num_heads\n",
    "        self.wq = layers.Dense(d_model)\n",
    "        self.wk = layers.Dense(d_model)\n",
    "        self.wv = layers.Dense(d_model)\n",
    "        self.dense = layers.Dense(d_model)\n",
    "\n",
    "    def split_heads(self, x, batch_size):\n",
    "        x = tf.reshape(x, (batch_size, -1, self.num_heads, self.depth))\n",
    "        return tf.transpose(x, perm=[0, 2, 1, 3])\n",
    "\n",
    "    def call(self, v, k, q, mask):\n",
    "        batch_size = tf.shape(q)[0]\n",
    "        q = self.split_heads(self.wq(q), batch_size)\n",
    "        k = self.split_heads(self.wk(k), batch_size)\n",
    "        v = self.split_heads(self.wv(v), batch_size)\n",
    "        scaled_attention, _ = scaled_dot_product_attention(q, k, v, mask)\n",
    "        scaled_attention = tf.transpose(scaled_attention, perm=[0, 2, 1, 3])\n",
    "        concat_attention = tf.reshape(scaled_attention, (batch_size, -1, self.d_model))\n",
    "        output = self.dense(concat_attention)\n",
    "        return output"
   ]
  },
  {
   "cell_type": "code",
   "execution_count": 5,
   "id": "e5d00e3b",
   "metadata": {},
   "outputs": [],
   "source": [
    "# Transformer Encoder Layer\n",
    "\n",
    "class EncoderLayer(tf.keras.layers.Layer):\n",
    "    def __init__(self, d_model, num_heads, dff, dropout_rate=0.1):\n",
    "        super().__init__()\n",
    "        self.mha = MultiHeadAttention(d_model, num_heads)\n",
    "        self.ffn = tf.keras.Sequential([\n",
    "            layers.Dense(dff, activation='relu'),\n",
    "            layers.Dense(d_model)\n",
    "        ])\n",
    "        self.layernorm1 = layers.LayerNormalization(epsilon=1e-6)\n",
    "        self.layernorm2 = layers.LayerNormalization(epsilon=1e-6)\n",
    "        self.dropout1 = layers.Dropout(dropout_rate)\n",
    "        self.dropout2 = layers.Dropout(dropout_rate)\n",
    "\n",
    "    def call(self, x, *, training=None, mask=None):\n",
    "        attn_output = self.mha(x, x, x, mask)\n",
    "        attn_output = self.dropout1(attn_output, training=training)\n",
    "        out1 = self.layernorm1(x + attn_output)\n",
    "        ffn_output = self.ffn(out1)\n",
    "        ffn_output = self.dropout2(ffn_output, training=training)\n",
    "        return self.layernorm2(out1 + ffn_output)"
   ]
  },
  {
   "cell_type": "code",
   "execution_count": 6,
   "id": "d689b151",
   "metadata": {},
   "outputs": [],
   "source": [
    "# Full Transformer Encoder\n",
    "\n",
    "class Transformer(tf.keras.Model):\n",
    "    def __init__(self, num_layers, d_model, num_heads, dff, input_vocab_size,\n",
    "                 maximum_position_encoding, dropout_rate=0.1):\n",
    "        super().__init__()\n",
    "        self.d_model = d_model\n",
    "        self.num_layers = num_layers\n",
    "\n",
    "        self.embedding = layers.Embedding(input_vocab_size, d_model)\n",
    "        self.pos_encoding = get_positional_encoding(maximum_position_encoding, d_model)\n",
    "\n",
    "        self.enc_layers = [EncoderLayer(d_model, num_heads, dff, dropout_rate) \n",
    "                           for _ in range(num_layers)]\n",
    "\n",
    "        self.dropout = layers.Dropout(dropout_rate)\n",
    "        self.final_layer = layers.Dense(input_vocab_size)\n",
    "\n",
    "    def call(self, x, *, training=None, mask=None):\n",
    "        seq_len = tf.shape(x)[1]\n",
    "        x = self.embedding(x)\n",
    "        x *= tf.math.sqrt(tf.cast(self.d_model, tf.float32))\n",
    "        x += self.pos_encoding[:, :seq_len, :]\n",
    "        x = self.dropout(x, training=training)\n",
    "\n",
    "        for i in range(self.num_layers):\n",
    "            x = self.enc_layers[i](x, training=training, mask=mask)\n",
    "\n",
    "        return self.final_layer(x)"
   ]
  },
  {
   "cell_type": "code",
   "execution_count": 7,
   "id": "5bdbaa03",
   "metadata": {},
   "outputs": [
    {
     "name": "stdout",
     "output_type": "stream",
     "text": [
      "Output : tf.Tensor(\n",
      "[[[-0.34750703  0.16808674  0.25967413 ... -0.4543587  -0.38159454\n",
      "    0.10776502]\n",
      "  [-0.68258923  0.2985749  -0.03120044 ... -0.35497564 -0.07257999\n",
      "   -0.00656354]\n",
      "  [-0.5882651   0.12710622  0.20479527 ... -0.42233342 -0.1015323\n",
      "    0.12235051]\n",
      "  [-0.9115173   0.44931298  0.14421995 ... -0.6026541  -0.16720936\n",
      "    0.09520782]\n",
      "  [-1.0670317   0.49854913  0.411912   ... -0.48383534  0.02246449\n",
      "   -0.00252168]\n",
      "  [-0.9720975   0.4970778   0.53814995 ... -0.60057867  0.03045533\n",
      "    0.01129379]]], shape=(1, 6, 1000), dtype=float32)\n",
      "Output shape: (1, 6, 1000)\n"
     ]
    }
   ],
   "source": [
    "# Example Usage\n",
    "\n",
    "# Dummy parameters and input\n",
    "sample_transformer = Transformer(\n",
    "    num_layers=2,\n",
    "    d_model=128,\n",
    "    num_heads=4,\n",
    "    dff=512,\n",
    "    input_vocab_size=1000,\n",
    "    maximum_position_encoding=100\n",
    ")\n",
    "\n",
    "dummy_input = tf.constant([[1, 2, 3, 4, 0, 0]])\n",
    "dummy_mask = None\n",
    "output = sample_transformer(dummy_input, training=False, mask=dummy_mask)\n",
    "print(\"Output :\", output) \n",
    "print(\"Output shape:\", output.shape)  # (batch_size, input_seq_len, vocab_size)"
   ]
  },
  {
   "cell_type": "code",
   "execution_count": 8,
   "id": "c2e2476b",
   "metadata": {},
   "outputs": [],
   "source": [
    "# Generate predictions (argmax over vocab dimension)\n",
    "def predict(model, input_tensor, mask=None):\n",
    "    logits = model(input_tensor, training=False, mask=mask)\n",
    "    return tf.argmax(logits, axis=-1)"
   ]
  },
  {
   "cell_type": "code",
   "execution_count": 9,
   "id": "31ab3a41",
   "metadata": {},
   "outputs": [],
   "source": [
    "# Calculate loss (sparse categorical crossentropy)\n",
    "def compute_loss(labels, logits):\n",
    "    loss_fn = tf.keras.losses.SparseCategoricalCrossentropy(from_logits=True, reduction='none')\n",
    "    loss = loss_fn(labels, logits)\n",
    "    mask = tf.cast(tf.not_equal(labels, 0), dtype=loss.dtype)\n",
    "    loss *= mask\n",
    "    return tf.reduce_sum(loss) / tf.reduce_sum(mask)"
   ]
  },
  {
   "cell_type": "code",
   "execution_count": 10,
   "id": "edc5143f",
   "metadata": {},
   "outputs": [],
   "source": [
    "# Calculate accuracy\n",
    "def compute_accuracy(labels, predictions):\n",
    "    mask = tf.not_equal(labels, 0)\n",
    "    predictions = tf.cast(predictions, labels.dtype)  # Ensure same dtype\n",
    "    matches = tf.equal(labels, predictions)\n",
    "    matches = tf.logical_and(mask, matches)\n",
    "    return tf.reduce_sum(tf.cast(matches, tf.float32)) / tf.reduce_sum(tf.cast(mask, tf.float32))"
   ]
  },
  {
   "cell_type": "code",
   "execution_count": 11,
   "id": "42bbf1d6",
   "metadata": {},
   "outputs": [
    {
     "name": "stdout",
     "output_type": "stream",
     "text": [
      "Predictions: [[ 70 468 200  44  44  44]]\n"
     ]
    }
   ],
   "source": [
    "# Example usage of the above methods\n",
    "predictions = predict(sample_transformer, dummy_input, mask=dummy_mask)\n",
    "print(\"Predictions:\", predictions.numpy())"
   ]
  },
  {
   "cell_type": "code",
   "execution_count": 12,
   "id": "765ba5ef",
   "metadata": {},
   "outputs": [
    {
     "name": "stdout",
     "output_type": "stream",
     "text": [
      "Loss: 6.736805\n",
      "Accuracy: 0.0\n"
     ]
    }
   ],
   "source": [
    "# For demonstration, use dummy_input as labels (normally use real labels)\n",
    "loss = compute_loss(dummy_input, output)\n",
    "accuracy = compute_accuracy(dummy_input, predictions)\n",
    "print(\"Loss:\", loss.numpy())\n",
    "print(\"Accuracy:\", accuracy.numpy())"
   ]
  }
 ],
 "metadata": {
  "kernelspec": {
   "display_name": "Python 3",
   "language": "python",
   "name": "python3"
  },
  "language_info": {
   "codemirror_mode": {
    "name": "ipython",
    "version": 3
   },
   "file_extension": ".py",
   "mimetype": "text/x-python",
   "name": "python",
   "nbconvert_exporter": "python",
   "pygments_lexer": "ipython3",
   "version": "3.12.10"
  }
 },
 "nbformat": 4,
 "nbformat_minor": 5
}
