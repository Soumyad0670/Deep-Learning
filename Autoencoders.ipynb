{
 "cells": [
  {
   "cell_type": "code",
   "execution_count": 1,
   "id": "cfea1a41",
   "metadata": {},
   "outputs": [],
   "source": [
    "import numpy as np\n",
    "import matplotlib.pyplot as plt\n",
    "import tensorflow as tf\n",
    "from tensorflow.keras import layers, models"
   ]
  },
  {
   "cell_type": "code",
   "execution_count": 2,
   "id": "dc898249",
   "metadata": {},
   "outputs": [],
   "source": [
    "# 1. Load and preprocess data\n",
    "def load_mnist_data():\n",
    "    (x_train, _), (x_test, _) = tf.keras.datasets.mnist.load_data() # Load MNIST dataset\n",
    "    x_train = x_train.astype(\"float32\") / 255.0 # Normalize pixel values to [0, 1]\n",
    "    x_test = x_test.astype(\"float32\") / 255.0 # Normalize pixel values to [0, 1]\n",
    "    x_train = np.expand_dims(x_train, -1) # shape: (num_samples, 28, 28, 1)\n",
    "    x_test = np.expand_dims(x_test, -1) \n",
    "    return x_train, x_test\n"
   ]
  },
  {
   "cell_type": "code",
   "execution_count": 3,
   "id": "652b9472",
   "metadata": {},
   "outputs": [],
   "source": [
    "# 2. Build the autoencoder\n",
    "def build_autoencoder(input_shape, latent_dim):\n",
    "    # Encoder\n",
    "    encoder_input = layers.Input(shape=input_shape) # shape: (28, 28, 1)\n",
    "    x = layers.Flatten()(encoder_input) # Flatten the input -- shape: (28, 28, 1) -> (784,)\n",
    "    x = layers.Dense(128, activation='relu')(x) # Fully connected layer -- shape: (784,) -> (128,)\n",
    "    x = layers.Dense(64, activation='relu')(x)  # Another fully connected layer -- shape: (128,) -> (64,)\n",
    "    # Latent space representation\n",
    "    latent = layers.Dense(latent_dim, activation='relu')(x) # shape: (64,) -> (latent_dim,)\n",
    "    encoder = models.Model(encoder_input, latent, name='encoder') # Create the encoder model\n",
    "\n",
    "    # Decoder\n",
    "    decoder_input = layers.Input(shape=(latent_dim,)) # shape: (latent_dim,)\n",
    "    x = layers.Dense(128, activation='relu')(decoder_input) # Fully connected layer -- shape: (latent_dim,) -> (128,)\n",
    "    x = layers.Dense(np.prod(input_shape), activation='sigmoid')(x) # Fully connected layer -- shape: (128,) -> (784,)\n",
    "    decoder_output = layers.Reshape(input_shape)(x) # Reshape to original input shape -- shape: (784,) -> (28, 28, 1)\n",
    "    decoder = models.Model(decoder_input, decoder_output, name='decoder') # Create the decoder model\n",
    "\n",
    "    # Autoencoder = encoder + decoder\n",
    "    autoencoder_input = encoder_input # Input for the autoencoder is the same as the encoder\n",
    "    encoded = encoder(autoencoder_input) # Get the encoded representation\n",
    "    reconstructed = decoder(encoded) # Reconstruct the input from the encoded representation\n",
    "    autoencoder = models.Model(autoencoder_input, reconstructed, name='autoencoder') # Create the autoencoder model\n",
    "    return autoencoder, encoder, decoder"
   ]
  },
  {
   "cell_type": "code",
   "execution_count": 4,
   "id": "fb5e7605",
   "metadata": {},
   "outputs": [],
   "source": [
    "# 3. Train the autoencoder\n",
    "def train_autoencoder(autoencoder, x_train, x_test, epochs=20, batch_size=256):\n",
    "    autoencoder.compile(optimizer='adam', loss='mse')\n",
    "    history = autoencoder.fit(x_train, x_train,\n",
    "                              validation_data=(x_test, x_test),\n",
    "                              epochs=epochs,\n",
    "                              batch_size=batch_size,\n",
    "                              verbose=2)\n",
    "    return history"
   ]
  },
  {
   "cell_type": "code",
   "execution_count": 5,
   "id": "f85f8c5b",
   "metadata": {},
   "outputs": [],
   "source": [
    "# 4. Visualize reconstruction\n",
    "def plot_reconstruction(autoencoder, x_test, num_images=10):\n",
    "    decoded_imgs = autoencoder.predict(x_test[:num_images])\n",
    "    plt.figure(figsize=(20, 4))\n",
    "    for i in range(num_images):\n",
    "        # Original\n",
    "        ax = plt.subplot(2, num_images, i + 1)\n",
    "        plt.imshow(x_test[i].reshape(28, 28), cmap='gray')\n",
    "        plt.axis('off')\n",
    "        # Reconstructed\n",
    "        ax = plt.subplot(2, num_images, i + 1 + num_images)\n",
    "        plt.imshow(decoded_imgs[i].reshape(28, 28), cmap='gray')\n",
    "        plt.axis('off')\n",
    "    plt.suptitle(\"Top: Original | Bottom: Reconstructed\", fontsize=16)\n",
    "    plt.show()"
   ]
  },
  {
   "cell_type": "code",
   "execution_count": 6,
   "id": "42ae413b",
   "metadata": {},
   "outputs": [],
   "source": [
    "# 5. Use case: Anomaly detection (reconstruction error)\n",
    "def detect_anomalies(autoencoder, normal_data, suspect_data, threshold=None):\n",
    "    reconstructions = autoencoder.predict(suspect_data)\n",
    "    mse = np.mean(np.square(suspect_data - reconstructions), axis=(1, 2, 3))\n",
    "    if threshold is None:\n",
    "        threshold = np.mean(mse) + 3 * np.std(mse)  # Dynamic threshold\n",
    "    anomalies = mse > threshold\n",
    "    return anomalies, mse, threshold"
   ]
  },
  {
   "cell_type": "code",
   "execution_count": 7,
   "id": "b9e59dc3",
   "metadata": {},
   "outputs": [
    {
     "name": "stdout",
     "output_type": "stream",
     "text": [
      "Epoch 1/20\n",
      "235/235 - 3s - 13ms/step - loss: 0.0628 - val_loss: 0.0361\n",
      "Epoch 2/20\n",
      "235/235 - 1s - 5ms/step - loss: 0.0291 - val_loss: 0.0237\n",
      "Epoch 3/20\n",
      "235/235 - 1s - 5ms/step - loss: 0.0219 - val_loss: 0.0195\n",
      "Epoch 4/20\n",
      "235/235 - 1s - 5ms/step - loss: 0.0187 - val_loss: 0.0173\n",
      "Epoch 5/20\n",
      "235/235 - 1s - 5ms/step - loss: 0.0167 - val_loss: 0.0155\n",
      "Epoch 6/20\n",
      "235/235 - 1s - 5ms/step - loss: 0.0153 - val_loss: 0.0143\n",
      "Epoch 7/20\n",
      "235/235 - 1s - 5ms/step - loss: 0.0142 - val_loss: 0.0134\n",
      "Epoch 8/20\n",
      "235/235 - 1s - 5ms/step - loss: 0.0135 - val_loss: 0.0128\n",
      "Epoch 9/20\n",
      "235/235 - 1s - 5ms/step - loss: 0.0129 - val_loss: 0.0124\n",
      "Epoch 10/20\n",
      "235/235 - 1s - 5ms/step - loss: 0.0124 - val_loss: 0.0120\n",
      "Epoch 11/20\n",
      "235/235 - 1s - 5ms/step - loss: 0.0120 - val_loss: 0.0115\n",
      "Epoch 12/20\n",
      "235/235 - 1s - 5ms/step - loss: 0.0116 - val_loss: 0.0111\n",
      "Epoch 13/20\n",
      "235/235 - 1s - 5ms/step - loss: 0.0113 - val_loss: 0.0108\n",
      "Epoch 14/20\n",
      "235/235 - 1s - 5ms/step - loss: 0.0110 - val_loss: 0.0105\n",
      "Epoch 15/20\n",
      "235/235 - 1s - 5ms/step - loss: 0.0107 - val_loss: 0.0103\n",
      "Epoch 16/20\n",
      "235/235 - 1s - 5ms/step - loss: 0.0104 - val_loss: 0.0100\n",
      "Epoch 17/20\n",
      "235/235 - 1s - 5ms/step - loss: 0.0102 - val_loss: 0.0098\n",
      "Epoch 18/20\n",
      "235/235 - 1s - 5ms/step - loss: 0.0100 - val_loss: 0.0096\n",
      "Epoch 19/20\n",
      "235/235 - 1s - 5ms/step - loss: 0.0097 - val_loss: 0.0096\n",
      "Epoch 20/20\n",
      "235/235 - 1s - 5ms/step - loss: 0.0096 - val_loss: 0.0092\n",
      "\u001b[1m1/1\u001b[0m \u001b[32m━━━━━━━━━━━━━━━━━━━━\u001b[0m\u001b[37m\u001b[0m \u001b[1m0s\u001b[0m 84ms/step\n"
     ]
    },
    {
     "data": {
      "image/png": "[encoded data removed]",
      "text/plain": [
       "<Figure size 2000x400 with 20 Axes>"
      ]
     },
     "metadata": {},
     "output_type": "display_data"
    },
    {
     "name": "stdout",
     "output_type": "stream",
     "text": [
      "\u001b[1m313/313\u001b[0m \u001b[32m━━━━━━━━━━━━━━━━━━━━\u001b[0m\u001b[37m\u001b[0m \u001b[1m1s\u001b[0m 1ms/step\n",
      "Detected anomalies: 110\n",
      "MSE scores: [0.00361605 0.01593858 0.00209358 0.00713232 0.00857991 0.00090034\n",
      " 0.01444255 0.01577349 0.01354055 0.00850323]\n",
      "Threshold for anomaly detection: 0.025375098\n"
     ]
    }
   ],
   "source": [
    "# Run everything\n",
    "x_train, x_test = load_mnist_data()\n",
    "autoencoder, encoder, decoder = build_autoencoder(input_shape=(28, 28, 1), latent_dim=32) # Latent dimension can be adjusted -- Latent dim is the size of the compressed representation\n",
    "train_autoencoder(autoencoder, x_train, x_test, epochs=20) \n",
    "plot_reconstruction(autoencoder, x_test)\n",
    "\n",
    "# Anomaly detection (using normal test images)\n",
    "anomalies, mse_scores, threshold = detect_anomalies(autoencoder, x_train, x_test)\n",
    "print(\"Detected anomalies:\", np.sum(anomalies))\n",
    "print(\"MSE scores:\", mse_scores[:10])  # Print first 10 MSE scores\n",
    "print(\"Threshold for anomaly detection:\", threshold)"
   ]
  },
  {
   "cell_type": "code",
   "execution_count": null,
   "id": "b1513779",
   "metadata": {},
   "outputs": [],
   "source": []
  }
 ],
 "metadata": {
  "kernelspec": {
   "display_name": "Python 3",
   "language": "python",
   "name": "python3"
  },
  "language_info": {
   "codemirror_mode": {
    "name": "ipython",
    "version": 3
   },
   "file_extension": ".py",
   "mimetype": "text/x-python",
   "name": "python",
   "nbconvert_exporter": "python",
   "pygments_lexer": "ipython3",
   "version": "3.12.10"
  }
 },
 "nbformat": 4,
 "nbformat_minor": 5
}
